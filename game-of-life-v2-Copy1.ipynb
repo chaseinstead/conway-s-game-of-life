{
 "cells": [
  {
   "cell_type": "code",
   "execution_count": 136,
   "metadata": {
    "scrolled": true
   },
   "outputs": [
    {
     "name": "stdout",
     "output_type": "stream",
     "text": [
      "STARTING POSITION:\n",
      "[1, 1, 1, 1, 0]\n",
      "[0, 0, 0, 0, 0]\n",
      "[1, 1, 0, 0, 0]\n",
      "[1, 0, 1, 1, 0]\n",
      "[0, 0, 0, 1, 0]\n"
     ]
    }
   ],
   "source": [
    "import random\n",
    "import numpy\n",
    "import copy\n",
    "from functools import reduce\n",
    "round_count = 1\n",
    "\n",
    "rounds_to_play = 100\n",
    "height = 5\n",
    "width = 5\n",
    "symb_alive = \"#\"\n",
    "symb_dead = \".\"\n",
    "\n",
    "\n",
    "def create_canvas(height, width):\n",
    "    game = []\n",
    "    \n",
    "    for line in range(height):\n",
    "        filled_line = []\n",
    "        for position in range(width):\n",
    "            filled_line.append(random.randint(0, 1))\n",
    "        game.append(filled_line)\n",
    "    \n",
    "    return game\n",
    "\n",
    "\n",
    "start_pos = create_canvas(height, width)\n",
    "print(\"STARTING POSITION:\")\n",
    "print('\\n'.join(map(str, start_pos)))"
   ]
  },
  {
   "cell_type": "code",
   "execution_count": 137,
   "metadata": {
    "scrolled": false
   },
   "outputs": [
    {
     "name": "stdout",
     "output_type": "stream",
     "text": [
      "ROUND NUMBER 1:\n",
      "#  #  #  #  .\n",
      ".  .  .  .  .\n",
      "#  #  .  .  .\n",
      "#  .  #  #  .\n",
      ".  .  .  #  .\n"
     ]
    }
   ],
   "source": [
    "def replace(a_list, symb_a, symb_d):\n",
    "    formatted_line = []\n",
    "    [formatted_line.append(symb_a) if x == 1 else formatted_line.append(symb_d) for x in a_list]\n",
    "    return formatted_line\n",
    "\n",
    "def format_round(game):\n",
    "    '''creates visualization for a round of game of life. needs round as input'''\n",
    "    \n",
    "    game2 = []\n",
    "    \n",
    "    for line in game:\n",
    "        newline = replace(line, symb_alive, symb_dead)\n",
    "        game2.append(\"  \".join(str(x) for x in newline))\n",
    "        \n",
    "    print(\"ROUND NUMBER {}:\".format(round_count))\n",
    "    return print('\\n'.join(map(str,game2)))\n",
    "\n",
    "format_round(start_pos)"
   ]
  },
  {
   "cell_type": "code",
   "execution_count": 132,
   "metadata": {},
   "outputs": [],
   "source": [
    "game = start_pos\n",
    "\n",
    "def cor(pos):\n",
    "    if pos < 0:\n",
    "        return 0\n",
    "    if pos > width:\n",
    "        return width\n",
    "    return pos\n",
    "\n",
    "\n",
    "def cor_line(line):\n",
    "    if line == -1:\n",
    "        raise IndexError\n",
    "    return line\n",
    "\n",
    "\n",
    "def check_position(line, pos):\n",
    "    \n",
    "    surrounding = 0\n",
    "    \n",
    "    if not line == 0:\n",
    "        try:\n",
    "            surrounding += sum(game[cor_line(line-1)][cor(pos-1):cor(pos+2)])\n",
    "        except IndexError:\n",
    "            pass\n",
    "    \n",
    "    try:\n",
    "        surrounding += sum(game[line+1][cor(pos-1):cor(pos+2)])\n",
    "        #print(game[line+1][cor(pos-1):cor(pos+2)])\n",
    "    except IndexError:\n",
    "        pass\n",
    "    \n",
    "    surrounding += sum(game[line][cor(pos-1):cor(pos+2)])\n",
    "    return surrounding - game[line][pos]"
   ]
  },
  {
   "cell_type": "code",
   "execution_count": 133,
   "metadata": {},
   "outputs": [],
   "source": [
    "def alive_or_dead(line, pos):\n",
    "    life_around = check_position(line, pos)\n",
    "    if life_around == 3:\n",
    "        return 1\n",
    "    if life_around == 2:\n",
    "        return game[line][pos]\n",
    "    if life_around <= 1 or life_around >= 4:\n",
    "        return 0"
   ]
  },
  {
   "cell_type": "code",
   "execution_count": 134,
   "metadata": {},
   "outputs": [
    {
     "name": "stdout",
     "output_type": "stream",
     "text": [
      "3\n"
     ]
    }
   ],
   "source": [
    "print(check_position(3, 3))"
   ]
  },
  {
   "cell_type": "markdown",
   "metadata": {},
   "source": [
    "## putting together the game, steps:\n",
    "\n",
    "- start game and print formatted starting position (boxes 1 & 2)\n",
    "- "
   ]
  },
  {
   "cell_type": "code",
   "execution_count": null,
   "metadata": {},
   "outputs": [],
   "source": []
  },
  {
   "cell_type": "code",
   "execution_count": null,
   "metadata": {},
   "outputs": [],
   "source": [
    "def play_round():\n",
    "    # define how to play transform existing round into new round and yield it\n",
    "    \n",
    "    this_round = create_canvas(height, width)\n",
    "    yield this_round\n",
    "    \n",
    "    while True:\n",
    "        \n",
    "        next_round = []\n",
    "        \n",
    "        # generate next_round from this_round and yield it. construct is to it's repeatable.\n",
    "        for line in this_round:\n",
    "            new_line = []\n",
    "            for pos in line:\n",
    "                new_pos = check_position(line, pos)\n",
    "                new_line.append(new_pos)\n",
    "            next_round.append(new_line)\n",
    "            \n",
    "        yield next_round\n",
    "    \n",
    "# finally PLAYS GAME:\n",
    "for game_round in range(rounds_to_play):\n",
    "    print(format_round(game_round))\n",
    "    round_count += 1"
   ]
  }
 ],
 "metadata": {
  "kernelspec": {
   "display_name": "Python 3",
   "language": "python",
   "name": "python3"
  },
  "language_info": {
   "codemirror_mode": {
    "name": "ipython",
    "version": 3
   },
   "file_extension": ".py",
   "mimetype": "text/x-python",
   "name": "python",
   "nbconvert_exporter": "python",
   "pygments_lexer": "ipython3",
   "version": "3.6.5"
  }
 },
 "nbformat": 4,
 "nbformat_minor": 2
}
