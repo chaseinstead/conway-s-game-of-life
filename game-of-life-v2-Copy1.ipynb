{
 "cells": [
  {
   "cell_type": "code",
   "execution_count": 2,
   "metadata": {
    "scrolled": true
   },
   "outputs": [
    {
     "name": "stdout",
     "output_type": "stream",
     "text": [
      "STARTING POSITION:\n",
      "[0, 1, 0, 0, 0, 0, 0, 0, 0, 1, 1, 1, 0, 0, 0, 0, 1, 0, 0, 0]\n",
      "[1, 0, 1, 1, 1, 0, 0, 1, 0, 1, 0, 1, 0, 1, 1, 1, 1, 1, 1, 1]\n",
      "[0, 0, 0, 0, 1, 1, 0, 0, 0, 0, 1, 1, 1, 0, 1, 0, 1, 0, 1, 1]\n",
      "[1, 0, 0, 1, 0, 1, 1, 1, 0, 1, 1, 1, 0, 0, 0, 0, 1, 0, 0, 1]\n",
      "[0, 1, 0, 0, 0, 1, 0, 1, 0, 1, 0, 1, 1, 1, 0, 1, 0, 1, 1, 0]\n",
      "[1, 0, 0, 0, 0, 0, 1, 1, 1, 0, 1, 1, 0, 1, 1, 1, 1, 1, 0, 0]\n",
      "[1, 1, 1, 0, 0, 1, 0, 1, 0, 0, 1, 0, 0, 0, 0, 0, 0, 0, 0, 0]\n",
      "[0, 1, 1, 1, 0, 0, 0, 0, 1, 0, 0, 0, 1, 1, 1, 1, 0, 1, 0, 1]\n",
      "[0, 0, 1, 1, 0, 1, 0, 0, 1, 0, 1, 1, 1, 1, 0, 1, 0, 1, 1, 0]\n",
      "[0, 0, 0, 0, 1, 0, 1, 1, 1, 1, 1, 0, 0, 0, 0, 0, 1, 1, 1, 0]\n",
      "[1, 1, 0, 0, 0, 1, 1, 0, 0, 0, 0, 0, 0, 1, 1, 0, 0, 1, 0, 0]\n",
      "[0, 0, 1, 0, 1, 0, 0, 1, 0, 0, 1, 0, 1, 0, 1, 0, 1, 1, 1, 0]\n",
      "[1, 1, 0, 1, 0, 0, 1, 0, 0, 0, 0, 1, 0, 0, 1, 1, 0, 1, 1, 0]\n",
      "[1, 0, 0, 0, 1, 0, 1, 0, 1, 1, 0, 1, 0, 1, 1, 0, 0, 1, 0, 1]\n",
      "[1, 0, 0, 1, 1, 0, 0, 0, 1, 0, 0, 0, 0, 0, 0, 0, 0, 0, 0, 1]\n",
      "[1, 0, 0, 1, 1, 1, 1, 0, 0, 1, 1, 1, 0, 0, 1, 0, 0, 0, 0, 1]\n",
      "[1, 0, 1, 0, 1, 0, 1, 1, 1, 1, 0, 1, 0, 1, 0, 1, 0, 1, 0, 0]\n",
      "[0, 1, 0, 0, 0, 0, 0, 0, 1, 0, 1, 1, 1, 0, 1, 1, 0, 1, 0, 0]\n",
      "[0, 1, 0, 1, 0, 1, 1, 0, 1, 1, 1, 0, 1, 0, 1, 1, 0, 0, 0, 1]\n",
      "[0, 0, 1, 1, 1, 1, 0, 0, 1, 1, 1, 0, 1, 0, 0, 0, 1, 0, 0, 1]\n"
     ]
    }
   ],
   "source": [
    "import random\n",
    "import numpy\n",
    "import copy\n",
    "from functools import reduce\n",
    "\n",
    "round_count = 1\n",
    "\n",
    "height = 20\n",
    "width = 20\n",
    "symb_alive = \"#\"\n",
    "symb_dead = \".\"\n",
    "\n",
    "\n",
    "def create_canvas(height, width):\n",
    "    game = []\n",
    "    \n",
    "    for line in range(height):\n",
    "        filled_line = []\n",
    "        for position in range(width):\n",
    "            filled_line.append(random.randint(0, 1))\n",
    "        game.append(filled_line)\n",
    "    \n",
    "    return game\n",
    "\n",
    "\n",
    "start_pos = create_canvas(height, width)\n",
    "print(\"STARTING POSITION:\")\n",
    "print('\\n'.join(map(str, start_pos)))"
   ]
  },
  {
   "cell_type": "code",
   "execution_count": 3,
   "metadata": {
    "scrolled": false
   },
   "outputs": [
    {
     "name": "stdout",
     "output_type": "stream",
     "text": [
      "ROUND NUMBER 1:\n",
      ".  #  .  .  .  .  .  .  .  #  #  #  .  .  .  .  #  .  .  .\n",
      "#  .  #  #  #  .  .  #  .  #  .  #  .  #  #  #  #  #  #  #\n",
      ".  .  .  .  #  #  .  .  .  .  #  #  #  .  #  .  #  .  #  #\n",
      "#  .  .  #  .  #  #  #  .  #  #  #  .  .  .  .  #  .  .  #\n",
      ".  #  .  .  .  #  .  #  .  #  .  #  #  #  .  #  .  #  #  .\n",
      "#  .  .  .  .  .  #  #  #  .  #  #  .  #  #  #  #  #  .  .\n",
      "#  #  #  .  .  #  .  #  .  .  #  .  .  .  .  .  .  .  .  .\n",
      ".  #  #  #  .  .  .  .  #  .  .  .  #  #  #  #  .  #  .  #\n",
      ".  .  #  #  .  #  .  .  #  .  #  #  #  #  .  #  .  #  #  .\n",
      ".  .  .  .  #  .  #  #  #  #  #  .  .  .  .  .  #  #  #  .\n",
      "#  #  .  .  .  #  #  .  .  .  .  .  .  #  #  .  .  #  .  .\n",
      ".  .  #  .  #  .  .  #  .  .  #  .  #  .  #  .  #  #  #  .\n",
      "#  #  .  #  .  .  #  .  .  .  .  #  .  .  #  #  .  #  #  .\n",
      "#  .  .  .  #  .  #  .  #  #  .  #  .  #  #  .  .  #  .  #\n",
      "#  .  .  #  #  .  .  .  #  .  .  .  .  .  .  .  .  .  .  #\n",
      "#  .  .  #  #  #  #  .  .  #  #  #  .  .  #  .  .  .  .  #\n",
      "#  .  #  .  #  .  #  #  #  #  .  #  .  #  .  #  .  #  .  .\n",
      ".  #  .  .  .  .  .  .  #  .  #  #  #  .  #  #  .  #  .  .\n",
      ".  #  .  #  .  #  #  .  #  #  #  .  #  .  #  #  .  .  .  #\n",
      ".  .  #  #  #  #  .  .  #  #  #  .  #  .  .  .  #  .  .  #\n"
     ]
    }
   ],
   "source": [
    "game2 = []\n",
    "\n",
    "def replace(a_list, symb_a, symb_d):\n",
    "    formatted_line = []\n",
    "    [formatted_line.append(symb_a) if x == 1 else formatted_line.append(symb_d) for x in a_list]\n",
    "    return formatted_line\n",
    "\n",
    "def format_round(game):\n",
    "    '''creates visualization for a round of game of life. needs round as input'''\n",
    "    \n",
    "    game2 = []\n",
    "    \n",
    "    for line in game:\n",
    "        newline = replace(line, symb_alive, symb_dead)\n",
    "        game2.append(\"  \".join(str(x) for x in newline))\n",
    "        \n",
    "    print(\"ROUND NUMBER {}:\".format(round_count))\n",
    "    return print('\\n'.join(map(str,game2)))\n",
    "\n",
    "format_round(start_pos)"
   ]
  },
  {
   "cell_type": "code",
   "execution_count": 36,
   "metadata": {},
   "outputs": [],
   "source": [
    "game = start_pos\n",
    "\n",
    "def cor(pos):\n",
    "    if pos < 0:\n",
    "        return 0\n",
    "    if pos > width:\n",
    "        return width\n",
    "    return pos\n",
    "\n",
    "    \n",
    "def cor_line(line):\n",
    "    if line == -1:\n",
    "        return height + 10 # unrealistic value so line doesn't get evaluated\n",
    "    if line > height:\n",
    "        return height\n",
    "    return line\n",
    "\n",
    "def check_position(line, pos):\n",
    "    surrounding = 0 - game[line][pos]\n",
    "    \n",
    "    try:\n",
    "        surrounding += sum(game[cor_line(line-1)][cor(pos-1):cor(pos+2)])\n",
    "    except:\n",
    "        pass\n",
    "    try:\n",
    "        surrounding += sum(game[cor_line(line+1)][cor(pos-1):cor(pos+2)])\n",
    "    except:\n",
    "        pass\n",
    "    \n",
    "    surrounding += sum(game[line][cor(pos-1):cor(pos+2)])\n",
    "\n",
    "    return surrounding"
   ]
  },
  {
   "cell_type": "code",
   "execution_count": 33,
   "metadata": {},
   "outputs": [],
   "source": [
    "def alive_or_dead(line, pos):\n",
    "    life_around = check_position(line, pos)\n",
    "    if life_around == 3:\n",
    "        return 1\n",
    "    if life_around == 2:\n",
    "        return game[line][pos]\n",
    "    if life_around <= 1 or life_around >= 4:\n",
    "        return 0"
   ]
  },
  {
   "cell_type": "code",
   "execution_count": 42,
   "metadata": {},
   "outputs": [
    {
     "name": "stdout",
     "output_type": "stream",
     "text": [
      "1\n"
     ]
    }
   ],
   "source": [
    "print(check_position(height-1, width-1))"
   ]
  },
  {
   "cell_type": "code",
   "execution_count": 46,
   "metadata": {
    "scrolled": false
   },
   "outputs": [
    {
     "ename": "IndexError",
     "evalue": "list index out of range",
     "output_type": "error",
     "traceback": [
      "\u001b[1;31m---------------------------------------------------------------------------\u001b[0m",
      "\u001b[1;31mIndexError\u001b[0m                                Traceback (most recent call last)",
      "\u001b[1;32m<ipython-input-46-9a9ea1dae268>\u001b[0m in \u001b[0;36m<module>\u001b[1;34m()\u001b[0m\n\u001b[0;32m      9\u001b[0m \u001b[1;33m\u001b[0m\u001b[0m\n\u001b[0;32m     10\u001b[0m \u001b[1;33m\u001b[0m\u001b[0m\n\u001b[1;32m---> 11\u001b[1;33m \u001b[0mnext_round\u001b[0m \u001b[1;33m=\u001b[0m \u001b[0mnext_round\u001b[0m\u001b[1;33m(\u001b[0m\u001b[1;33m)\u001b[0m\u001b[1;33m\u001b[0m\u001b[0m\n\u001b[0m\u001b[0;32m     12\u001b[0m \u001b[0mround_count\u001b[0m \u001b[1;33m+=\u001b[0m \u001b[1;36m1\u001b[0m\u001b[1;33m\u001b[0m\u001b[0m\n\u001b[0;32m     13\u001b[0m \u001b[1;33m\u001b[0m\u001b[0m\n",
      "\u001b[1;32m<ipython-input-46-9a9ea1dae268>\u001b[0m in \u001b[0;36mnext_round\u001b[1;34m()\u001b[0m\n\u001b[0;32m      5\u001b[0m     \u001b[1;32mfor\u001b[0m \u001b[0mline\u001b[0m \u001b[1;32min\u001b[0m \u001b[0mrange\u001b[0m\u001b[1;33m(\u001b[0m\u001b[0mwidth\u001b[0m\u001b[1;33m-\u001b[0m\u001b[1;36m1\u001b[0m\u001b[1;33m)\u001b[0m\u001b[1;33m:\u001b[0m\u001b[1;33m\u001b[0m\u001b[0m\n\u001b[0;32m      6\u001b[0m         \u001b[1;32mfor\u001b[0m \u001b[0mpos\u001b[0m \u001b[1;32min\u001b[0m \u001b[0mrange\u001b[0m\u001b[1;33m(\u001b[0m\u001b[0mheight\u001b[0m\u001b[1;33m-\u001b[0m\u001b[1;36m1\u001b[0m\u001b[1;33m)\u001b[0m\u001b[1;33m:\u001b[0m\u001b[1;33m\u001b[0m\u001b[0m\n\u001b[1;32m----> 7\u001b[1;33m             \u001b[0mnext_round\u001b[0m\u001b[1;33m[\u001b[0m\u001b[0mline\u001b[0m\u001b[1;33m]\u001b[0m\u001b[1;33m[\u001b[0m\u001b[0mpos\u001b[0m\u001b[1;33m]\u001b[0m \u001b[1;33m=\u001b[0m \u001b[0malive_or_dead\u001b[0m\u001b[1;33m(\u001b[0m\u001b[0mint\u001b[0m\u001b[1;33m(\u001b[0m\u001b[0mline\u001b[0m\u001b[1;33m)\u001b[0m\u001b[1;33m,\u001b[0m \u001b[0mint\u001b[0m\u001b[1;33m(\u001b[0m\u001b[0mpos\u001b[0m\u001b[1;33m)\u001b[0m\u001b[1;33m)\u001b[0m\u001b[1;33m\u001b[0m\u001b[0m\n\u001b[0m\u001b[0;32m      8\u001b[0m     \u001b[1;32mreturn\u001b[0m \u001b[0mnext_round\u001b[0m\u001b[1;33m\u001b[0m\u001b[0m\n\u001b[0;32m      9\u001b[0m \u001b[1;33m\u001b[0m\u001b[0m\n",
      "\u001b[1;31mIndexError\u001b[0m: list index out of range"
     ]
    }
   ],
   "source": [
    "this_round = start_pos\n",
    "\n",
    "def next_round():\n",
    "    next_round = []\n",
    "    for line in range(width-1):\n",
    "        newline = []\n",
    "        for pos in range(height-1):\n",
    "            next_round[line][pos] = alive_or_dead(int(line), int(pos))\n",
    "    return next_round\n",
    "\n",
    "\n",
    "next_round = next_round()\n",
    "round_count += 1\n",
    "\n",
    "format_round(next_round)"
   ]
  },
  {
   "cell_type": "code",
   "execution_count": null,
   "metadata": {},
   "outputs": [],
   "source": []
  }
 ],
 "metadata": {
  "kernelspec": {
   "display_name": "Python 3",
   "language": "python",
   "name": "python3"
  },
  "language_info": {
   "codemirror_mode": {
    "name": "ipython",
    "version": 3
   },
   "file_extension": ".py",
   "mimetype": "text/x-python",
   "name": "python",
   "nbconvert_exporter": "python",
   "pygments_lexer": "ipython3",
   "version": "3.6.5"
  }
 },
 "nbformat": 4,
 "nbformat_minor": 2
}
