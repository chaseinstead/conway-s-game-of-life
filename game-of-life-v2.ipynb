{
 "cells": [
  {
   "cell_type": "code",
   "execution_count": 75,
   "metadata": {
    "scrolled": true
   },
   "outputs": [],
   "source": [
    "import random\n",
    "import copy\n",
    "import imageio\n",
    "import time\n",
    "import numpy as np\n",
    "\n",
    "config = {\n",
    "    \"height\": 10,\n",
    "    \"width\": 25,\n",
    "    \"rounds_to_play\": 60,\n",
    "    \"scale_up_by\": 14,\n",
    "    \"output_format\": \".gif\",\n",
    "    \"frames_per_second\": 8\n",
    "}"
   ]
  },
  {
   "cell_type": "code",
   "execution_count": 76,
   "metadata": {},
   "outputs": [],
   "source": [
    "def create_canvas(height, width):\n",
    "    '''creates the canvas on which game of life will be played'''\n",
    "    game = []\n",
    "    \n",
    "    for line in range(height):\n",
    "        filled_line = []\n",
    "        filled_line_uint8 = []\n",
    "        for position in range(width):\n",
    "            filled_line.append(random.randint(0, 1))\n",
    "        game.append(filled_line)\n",
    "    \n",
    "    return game"
   ]
  },
  {
   "cell_type": "code",
   "execution_count": 79,
   "metadata": {},
   "outputs": [],
   "source": [
    "def cor(pos):\n",
    "    '''corrects position within a line in case it is out of range'''\n",
    "    if pos < 0:\n",
    "        return 0\n",
    "    if pos > width:\n",
    "        return width\n",
    "    return pos\n",
    "\n",
    "def check_line(line):\n",
    "    '''returns IndexError if a line is -1. reason: it doesn't exist, \\\n",
    "    but python will evaluate the last line (line[-1])'''\n",
    "    if line == -1:\n",
    "        raise IndexError \n",
    "    return line\n",
    "\n",
    "\n",
    "def check_position(game, line, pos):\n",
    "    '''returns count of life around a given position (line and pos) \\\n",
    "    within a specified game of life (game)'''\n",
    "    \n",
    "    surrounding = sum(game[line][cor(pos-1):cor(pos+2)]) - game[line][pos]\n",
    "    \n",
    "    if not line == 0:\n",
    "        try:\n",
    "            surrounding += sum(game[check_line(line-1)][cor(pos-1):cor(pos+2)])\n",
    "        except IndexError:\n",
    "            pass\n",
    "        \n",
    "    try:\n",
    "        surrounding += sum(game[line+1][cor(pos-1):cor(pos+2)])\n",
    "    except IndexError:\n",
    "        pass\n",
    "    \n",
    "    return surrounding\n",
    "\n",
    "\n",
    "def alive_or_dead(this_round, line, pos):\n",
    "    '''evaluates whether a cell should be alive or dead in the next round'''\n",
    "    life_around = check_position(this_round, line, pos)\n",
    "    \n",
    "    if life_around == 3:\n",
    "        return 1\n",
    "    \n",
    "    if life_around == 2:\n",
    "        return this_round[line][pos]\n",
    "    \n",
    "    return 0"
   ]
  },
  {
   "cell_type": "code",
   "execution_count": 83,
   "metadata": {},
   "outputs": [],
   "source": [
    "def scale_for_animation(frame, times_big):\n",
    "    '''scales up single round and converts it to uint8 \\\n",
    "    so it can be visualized with imageio'''\n",
    "    converted_frame = []\n",
    "    for line in frame:\n",
    "        filled_line_uint8 = [255 if x == 1 else 0 for x in line]\n",
    "        converted_frame.append(filled_line_uint8) \n",
    "    return np.kron(converted_frame, np.ones((times_big,times_big))).astype(np.uint8)\n",
    "\n",
    "\n",
    "def create_visual(frames, fps, output_format):\n",
    "    '''writes and saves played game of life. uses imageio; \\\n",
    "    output can be \".gif\" or \".mp4\"'''\n",
    "    name = str(int(time.time())) + output_format\n",
    "    writer = imageio.get_writer(name, fps=fps)\n",
    "    \n",
    "    for frame in frames:\n",
    "        writer.append_data(frame)\n",
    "\n",
    "    writer.close()\n",
    "    \n",
    "    print(\"Done. Saved game as {}; bye.\".format(name))"
   ]
  },
  {
   "cell_type": "code",
   "execution_count": 80,
   "metadata": {},
   "outputs": [],
   "source": [
    "def life_generator():\n",
    "    '''generator that plays the game'''\n",
    "    \n",
    "    this_round = create_canvas(height, width)\n",
    "    yield this_round\n",
    "    \n",
    "    while True:\n",
    "        \n",
    "        next_round = []\n",
    "        \n",
    "        for line in range(0, height):\n",
    "            new_line = []\n",
    "            \n",
    "            for pos in range(0, width):\n",
    "                new_pos = alive_or_dead(this_round, line, pos)\n",
    "                new_line.append(new_pos)\n",
    "               \n",
    "            next_round.append(new_line)\n",
    "        \n",
    "        this_round = copy.deepcopy(next_round)\n",
    "        yield next_round"
   ]
  },
  {
   "cell_type": "code",
   "execution_count": 81,
   "metadata": {
    "scrolled": true
   },
   "outputs": [],
   "source": [
    "def play_conway(game_rounds, round_count, rounds_to_play, scale_up_by):\n",
    "    print(\"Let's play:\")\n",
    "    print(\"Starting Game of Life with {} cells and {} rounds...\".format(height * width, rounds_to_play))\n",
    "    \n",
    "    for game_round in game_rounds: \n",
    "        scaled_canvas = scale_for_animation(game_round, scale_up_by)\n",
    "        visual.append(scaled_canvas)\n",
    "    \n",
    "        if round_count >= rounds_to_play:\n",
    "            print(\"Finished game after {} rounds.\")\n",
    "            print(\"Proceeding to creating image\".format(round_count))\n",
    "            create_visual(visual, fps, output_format)\n",
    "            break\n",
    "        \n",
    "        round_count += 1"
   ]
  },
  {
   "cell_type": "code",
   "execution_count": 82,
   "metadata": {},
   "outputs": [
    {
     "name": "stdout",
     "output_type": "stream",
     "text": [
      "Let's play:\n",
      "Starting Game of Life with 250 cells and 60 rounds...\n",
      "Finished game after {} rounds.\n",
      "Proceeding to creating image\n",
      "Done. Saved game as 1544169519.gif; bye.\n"
     ]
    }
   ],
   "source": [
    "rounds_to_play = config[\"rounds_to_play\"]\n",
    "height = config[\"height\"]\n",
    "width = config[\"width\"]\n",
    "output_format = config[\"output_format\"]\n",
    "scale_up_by = config[\"scale_up_by\"]\n",
    "fps = config[\"frames_per_second\"]\n",
    "\n",
    "game_rounds = life_generator()\n",
    "round_count = 1\n",
    "visual = []\n",
    "\n",
    "play_conway(game_rounds, round_count, rounds_to_play, scale_up_by)"
   ]
  }
 ],
 "metadata": {
  "kernelspec": {
   "display_name": "Python 3",
   "language": "python",
   "name": "python3"
  },
  "language_info": {
   "codemirror_mode": {
    "name": "ipython",
    "version": 3
   },
   "file_extension": ".py",
   "mimetype": "text/x-python",
   "name": "python",
   "nbconvert_exporter": "python",
   "pygments_lexer": "ipython3",
   "version": "3.6.5"
  }
 },
 "nbformat": 4,
 "nbformat_minor": 2
}
