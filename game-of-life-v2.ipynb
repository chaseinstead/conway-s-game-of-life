{
 "cells": [
  {
   "cell_type": "code",
   "execution_count": 28,
   "metadata": {
    "scrolled": true
   },
   "outputs": [
    {
     "name": "stdout",
     "output_type": "stream",
     "text": [
      "STARTING POSITION:\n",
      "[0, 1, 0, 1, 1, 1, 0, 0, 1, 0, 1, 1, 1, 1, 0, 0, 1, 1, 0, 0]\n",
      "[0, 0, 1, 0, 0, 0, 0, 1, 1, 0, 0, 1, 1, 0, 1, 1, 1, 0, 0, 1]\n",
      "[0, 1, 0, 1, 0, 0, 0, 0, 0, 0, 1, 0, 0, 1, 1, 0, 1, 1, 1, 0]\n",
      "[0, 0, 0, 1, 1, 1, 0, 0, 0, 0, 1, 1, 0, 1, 1, 0, 0, 0, 1, 1]\n",
      "[1, 1, 1, 1, 1, 1, 0, 1, 0, 1, 1, 1, 1, 1, 0, 0, 0, 1, 1, 1]\n",
      "[0, 1, 1, 1, 0, 0, 0, 1, 0, 1, 1, 0, 0, 1, 1, 1, 0, 0, 0, 0]\n",
      "[0, 0, 0, 0, 0, 0, 0, 1, 0, 0, 1, 0, 0, 1, 1, 1, 0, 0, 1, 0]\n",
      "[0, 0, 0, 1, 1, 1, 0, 0, 0, 1, 1, 1, 0, 0, 0, 0, 0, 1, 0, 0]\n",
      "[0, 0, 0, 1, 0, 0, 1, 1, 0, 0, 1, 0, 0, 1, 0, 1, 1, 0, 1, 1]\n",
      "[1, 0, 1, 1, 1, 0, 0, 0, 0, 0, 1, 1, 1, 0, 1, 1, 0, 1, 0, 1]\n",
      "[0, 1, 1, 0, 0, 1, 1, 0, 1, 0, 0, 1, 1, 1, 0, 1, 0, 0, 1, 1]\n",
      "[0, 0, 1, 1, 1, 1, 1, 0, 1, 1, 1, 1, 0, 1, 0, 0, 1, 0, 0, 1]\n",
      "[1, 1, 1, 1, 0, 1, 1, 1, 1, 1, 0, 1, 0, 1, 0, 0, 1, 1, 0, 1]\n",
      "[0, 1, 0, 1, 1, 1, 1, 0, 0, 1, 1, 1, 0, 0, 0, 0, 1, 0, 0, 1]\n",
      "[1, 1, 1, 1, 0, 0, 0, 0, 0, 0, 1, 0, 1, 1, 1, 1, 0, 1, 0, 0]\n",
      "[1, 1, 1, 1, 0, 1, 0, 0, 1, 1, 0, 1, 0, 1, 1, 0, 1, 1, 0, 0]\n",
      "[1, 0, 0, 1, 1, 0, 0, 1, 0, 1, 1, 1, 1, 1, 1, 0, 0, 0, 1, 0]\n",
      "[0, 0, 1, 0, 1, 1, 0, 1, 1, 1, 1, 1, 1, 1, 1, 0, 0, 1, 1, 1]\n",
      "[1, 1, 0, 1, 0, 0, 0, 1, 1, 1, 0, 0, 1, 1, 0, 0, 1, 0, 0, 0]\n",
      "[0, 1, 1, 1, 1, 1, 1, 0, 1, 0, 1, 1, 1, 1, 0, 1, 0, 1, 0, 0]\n"
     ]
    }
   ],
   "source": [
    "import random\n",
    "import numpy\n",
    "import copy\n",
    "from functools import reduce\n",
    "\n",
    "round_count = 1\n",
    "\n",
    "height = 20\n",
    "width = 20\n",
    "symb_alive = \"#\"\n",
    "symb_dead = \".\"\n",
    "\n",
    "\n",
    "def create_canvas(height, width):\n",
    "    game = []\n",
    "    \n",
    "    for line in range(height):\n",
    "        filled_line = []\n",
    "        for position in range(width):\n",
    "            filled_line.append(random.randint(0, 1))\n",
    "        game.append(filled_line)\n",
    "    \n",
    "    return game\n",
    "\n",
    "\n",
    "start_pos = create_canvas(height, width)\n",
    "print(\"STARTING POSITION:\")\n",
    "print('\\n'.join(map(str, start_pos)))"
   ]
  },
  {
   "cell_type": "code",
   "execution_count": 29,
   "metadata": {
    "scrolled": false
   },
   "outputs": [
    {
     "name": "stdout",
     "output_type": "stream",
     "text": [
      "ROUND NUMBER 1:\n",
      ".  #  .  #  #  #  .  .  #  .  #  #  #  #  .  .  #  #  .  .\n",
      ".  .  #  .  .  .  .  #  #  .  .  #  #  .  #  #  #  .  .  #\n",
      ".  #  .  #  .  .  .  .  .  .  #  .  .  #  #  .  #  #  #  .\n",
      ".  .  .  #  #  #  .  .  .  .  #  #  .  #  #  .  .  .  #  #\n",
      "#  #  #  #  #  #  .  #  .  #  #  #  #  #  .  .  .  #  #  #\n",
      ".  #  #  #  .  .  .  #  .  #  #  .  .  #  #  #  .  .  .  .\n",
      ".  .  .  .  .  .  .  #  .  .  #  .  .  #  #  #  .  .  #  .\n",
      ".  .  .  #  #  #  .  .  .  #  #  #  .  .  .  .  .  #  .  .\n",
      ".  .  .  #  .  .  #  #  .  .  #  .  .  #  .  #  #  .  #  #\n",
      "#  .  #  #  #  .  .  .  .  .  #  #  #  .  #  #  .  #  .  #\n",
      ".  #  #  .  .  #  #  .  #  .  .  #  #  #  .  #  .  .  #  #\n",
      ".  .  #  #  #  #  #  .  #  #  #  #  .  #  .  .  #  .  .  #\n",
      "#  #  #  #  .  #  #  #  #  #  .  #  .  #  .  .  #  #  .  #\n",
      ".  #  .  #  #  #  #  .  .  #  #  #  .  .  .  .  #  .  .  #\n",
      "#  #  #  #  .  .  .  .  .  .  #  .  #  #  #  #  .  #  .  .\n",
      "#  #  #  #  .  #  .  .  #  #  .  #  .  #  #  .  #  #  .  .\n",
      "#  .  .  #  #  .  .  #  .  #  #  #  #  #  #  .  .  .  #  .\n",
      ".  .  #  .  #  #  .  #  #  #  #  #  #  #  #  .  .  #  #  #\n",
      "#  #  .  #  .  .  .  #  #  #  .  .  #  #  .  .  #  .  .  .\n",
      ".  #  #  #  #  #  #  .  #  .  #  #  #  #  .  #  .  #  .  .\n"
     ]
    }
   ],
   "source": [
    "game2 = []\n",
    "\n",
    "def replace(a_list, symb_a, symb_d):\n",
    "    formatted_line = []\n",
    "    [formatted_line.append(symb_a) if x == 1 else formatted_line.append(symb_d) for x in a_list]\n",
    "    return formatted_line\n",
    "\n",
    "def format_round(game):\n",
    "    '''creates visualization for a round of game of life. needs round as input'''\n",
    "    \n",
    "    game2 = []\n",
    "    \n",
    "    for line in game:\n",
    "        newline = replace(line, symb_alive, symb_dead)\n",
    "        game2.append(\"  \".join(str(x) for x in newline))\n",
    "        \n",
    "    print(\"ROUND NUMBER {}:\".format(round_count))\n",
    "    return print('\\n'.join(map(str,game2)))\n",
    "\n",
    "format_round(start_pos)"
   ]
  },
  {
   "cell_type": "code",
   "execution_count": 33,
   "metadata": {},
   "outputs": [],
   "source": [
    "game = start_pos\n",
    "\n",
    "def check_position(line, pos): # e.g. 2, 4\n",
    "    counter = 0\n",
    "    try:\n",
    "        counter += numpy.sum(game[line-1][pos-1:pos+2])\n",
    "    except:\n",
    "        pass\n",
    "    try:\n",
    "        counter += numpy.sum(game[line+1][pos-1:pos+2])\n",
    "    except:\n",
    "        pass\n",
    "    counter += numpy.sum(game[line][pos-1:pos+2])\n",
    "    \n",
    "    print(fields_to_check)\n",
    "    fields_to_check = sum(reduce(lambda x,y: x+y,fields_to_check))\n",
    "    fields_to_check = fields_to_check - int(game[line][pos])\n",
    "    print(fields_to_check)\n",
    "    return fields_to_check"
   ]
  },
  {
   "cell_type": "code",
   "execution_count": 22,
   "metadata": {},
   "outputs": [],
   "source": [
    "def alive_or_dead(line, pos):\n",
    "    life_around = check_position(line, pos)\n",
    "    if life_around == 3:\n",
    "        return 1\n",
    "    if life_around == 2:\n",
    "        return game[line][pos]\n",
    "    if life_around <= 1 or life_around >= 4:\n",
    "        return 0"
   ]
  },
  {
   "cell_type": "code",
   "execution_count": 34,
   "metadata": {},
   "outputs": [
    {
     "ename": "IndexError",
     "evalue": "list index out of range",
     "output_type": "error",
     "traceback": [
      "\u001b[1;31m---------------------------------------------------------------------------\u001b[0m",
      "\u001b[1;31mIndexError\u001b[0m                                Traceback (most recent call last)",
      "\u001b[1;32m<ipython-input-34-1862d94652dc>\u001b[0m in \u001b[0;36m<module>\u001b[1;34m()\u001b[0m\n\u001b[1;32m----> 1\u001b[1;33m \u001b[0mprint\u001b[0m\u001b[1;33m(\u001b[0m\u001b[0mcheck_position\u001b[0m\u001b[1;33m(\u001b[0m\u001b[0mwidth\u001b[0m\u001b[1;33m,\u001b[0m \u001b[0mwidth\u001b[0m\u001b[1;33m)\u001b[0m\u001b[1;33m)\u001b[0m\u001b[1;33m\u001b[0m\u001b[0m\n\u001b[0m",
      "\u001b[1;32m<ipython-input-33-14e79b9a9ea0>\u001b[0m in \u001b[0;36mcheck_position\u001b[1;34m(line, pos)\u001b[0m\n\u001b[0;32m     11\u001b[0m     \u001b[1;32mexcept\u001b[0m\u001b[1;33m:\u001b[0m\u001b[1;33m\u001b[0m\u001b[0m\n\u001b[0;32m     12\u001b[0m         \u001b[1;32mpass\u001b[0m\u001b[1;33m\u001b[0m\u001b[0m\n\u001b[1;32m---> 13\u001b[1;33m     \u001b[0mcounter\u001b[0m \u001b[1;33m+=\u001b[0m \u001b[0mnumpy\u001b[0m\u001b[1;33m.\u001b[0m\u001b[0msum\u001b[0m\u001b[1;33m(\u001b[0m\u001b[0mgame\u001b[0m\u001b[1;33m[\u001b[0m\u001b[0mline\u001b[0m\u001b[1;33m]\u001b[0m\u001b[1;33m[\u001b[0m\u001b[0mpos\u001b[0m\u001b[1;33m-\u001b[0m\u001b[1;36m1\u001b[0m\u001b[1;33m:\u001b[0m\u001b[0mpos\u001b[0m\u001b[1;33m+\u001b[0m\u001b[1;36m2\u001b[0m\u001b[1;33m]\u001b[0m\u001b[1;33m)\u001b[0m\u001b[1;33m\u001b[0m\u001b[0m\n\u001b[0m\u001b[0;32m     14\u001b[0m \u001b[1;33m\u001b[0m\u001b[0m\n\u001b[0;32m     15\u001b[0m     \u001b[0mprint\u001b[0m\u001b[1;33m(\u001b[0m\u001b[0mfields_to_check\u001b[0m\u001b[1;33m)\u001b[0m\u001b[1;33m\u001b[0m\u001b[0m\n",
      "\u001b[1;31mIndexError\u001b[0m: list index out of range"
     ]
    }
   ],
   "source": [
    "print(check_position(width, width))"
   ]
  },
  {
   "cell_type": "code",
   "execution_count": null,
   "metadata": {
    "scrolled": false
   },
   "outputs": [],
   "source": [
    "this_round = start_pos\n",
    "\n",
    "def calculate_next_round(current_round):\n",
    "    next_round = copy.deepcopy(this_round)\n",
    "    for line in range(width):\n",
    "        for pos in range(height):\n",
    "            next_round[line][pos] = alive_or_dead(int(line), int(pos))\n",
    "    return next_round\n",
    "\n",
    "\n",
    "next_round = calculate_next_round(this_round)\n",
    "round_count += 1\n",
    "\n",
    "format_round(next_round)"
   ]
  },
  {
   "cell_type": "code",
   "execution_count": null,
   "metadata": {},
   "outputs": [],
   "source": []
  }
 ],
 "metadata": {
  "kernelspec": {
   "display_name": "Python 3",
   "language": "python",
   "name": "python3"
  },
  "language_info": {
   "codemirror_mode": {
    "name": "ipython",
    "version": 3
   },
   "file_extension": ".py",
   "mimetype": "text/x-python",
   "name": "python",
   "nbconvert_exporter": "python",
   "pygments_lexer": "ipython3",
   "version": "3.6.5"
  }
 },
 "nbformat": 4,
 "nbformat_minor": 2
}
