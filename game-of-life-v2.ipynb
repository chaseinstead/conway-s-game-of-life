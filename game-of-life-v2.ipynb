{
 "cells": [
  {
   "cell_type": "code",
   "execution_count": 7,
   "metadata": {
    "scrolled": true
   },
   "outputs": [
    {
     "name": "stdout",
     "output_type": "stream",
     "text": [
      "STARTING POSITION:\n",
      "[0, 1, 1, 1, 1, 1, 1, 0, 1, 0, 1, 1, 0, 1, 0, 0, 1, 0, 0]\n",
      "[1, 1, 1, 0, 0, 1, 0, 0, 1, 0, 1, 0, 0, 0, 0, 0, 0, 1, 1]\n",
      "[1, 1, 0, 1, 1, 0, 1, 0, 0, 1, 0, 1, 1, 1, 0, 0, 1, 1, 1]\n",
      "[0, 1, 0, 1, 0, 1, 1, 0, 0, 1, 1, 0, 1, 1, 0, 0, 0, 1, 1]\n",
      "[0, 0, 1, 1, 0, 0, 0, 0, 0, 0, 0, 0, 1, 0, 0, 0, 0, 0, 0]\n",
      "[1, 1, 1, 1, 1, 1, 1, 0, 0, 1, 0, 0, 1, 0, 0, 1, 0, 0, 1]\n",
      "[0, 1, 1, 1, 1, 0, 0, 0, 1, 1, 0, 0, 1, 1, 1, 1, 1, 0, 1]\n",
      "[0, 1, 1, 0, 0, 1, 0, 0, 1, 0, 1, 1, 0, 0, 1, 0, 1, 1, 0]\n",
      "[1, 1, 0, 0, 0, 1, 0, 0, 1, 0, 0, 0, 1, 0, 1, 1, 0, 0, 1]\n",
      "[1, 0, 1, 1, 1, 0, 0, 1, 1, 1, 0, 1, 0, 1, 1, 1, 1, 0, 1]\n",
      "[1, 1, 1, 0, 0, 1, 0, 0, 0, 1, 0, 1, 0, 0, 1, 1, 0, 0, 1]\n",
      "[0, 1, 1, 1, 0, 1, 1, 1, 0, 0, 0, 1, 1, 0, 0, 1, 1, 1, 0]\n",
      "[1, 0, 1, 1, 1, 1, 0, 1, 1, 1, 0, 0, 0, 0, 1, 0, 0, 0, 1]\n",
      "[1, 1, 1, 0, 1, 0, 1, 1, 1, 1, 0, 1, 0, 1, 1, 1, 0, 0, 0]\n",
      "[0, 0, 1, 0, 1, 0, 0, 1, 0, 1, 1, 1, 0, 0, 0, 1, 1, 1, 0]\n",
      "[0, 0, 0, 0, 0, 1, 0, 0, 1, 0, 0, 1, 0, 1, 1, 1, 0, 0, 1]\n",
      "[0, 0, 0, 0, 0, 1, 1, 1, 1, 1, 1, 0, 1, 1, 0, 0, 1, 0, 0]\n",
      "[0, 0, 0, 1, 1, 1, 0, 0, 1, 1, 1, 0, 0, 0, 1, 0, 1, 1, 0]\n",
      "[0, 1, 0, 0, 0, 1, 0, 1, 0, 0, 0, 0, 0, 0, 0, 1, 0, 0, 1]\n"
     ]
    }
   ],
   "source": [
    "import random\n",
    "\n",
    "height = 20\n",
    "width = 20\n",
    "symb_alive = \"#\"\n",
    "symb_dead = \".\"\n",
    "\n",
    "round_count = 1\n",
    "\n",
    "\n",
    "def create_canvas(height, width):\n",
    "    game = []\n",
    "    \n",
    "    for line in range(1, height):\n",
    "        filled_line = []\n",
    "        for position in range(1, width):\n",
    "            filled_line.append(random.randint(0, 1))\n",
    "        game.append(filled_line)\n",
    "    \n",
    "    return game\n",
    "\n",
    "\n",
    "start_pos = create_canvas(height, width)\n",
    "print(\"STARTING POSITION:\")\n",
    "print('\\n'.join(map(str, start_pos)))"
   ]
  },
  {
   "cell_type": "code",
   "execution_count": 8,
   "metadata": {},
   "outputs": [
    {
     "name": "stdout",
     "output_type": "stream",
     "text": [
      "ROUND NUMBER 1:\n",
      ".  #  #  #  #  #  #  .  #  .  #  #  .  #  .  .  #  .  .\n",
      "#  #  #  .  .  #  .  .  #  .  #  .  .  .  .  .  .  #  #\n",
      "#  #  .  #  #  .  #  .  .  #  .  #  #  #  .  .  #  #  #\n",
      ".  #  .  #  .  #  #  .  .  #  #  .  #  #  .  .  .  #  #\n",
      ".  .  #  #  .  .  .  .  .  .  .  .  #  .  .  .  .  .  .\n",
      "#  #  #  #  #  #  #  .  .  #  .  .  #  .  .  #  .  .  #\n",
      ".  #  #  #  #  .  .  .  #  #  .  .  #  #  #  #  #  .  #\n",
      ".  #  #  .  .  #  .  .  #  .  #  #  .  .  #  .  #  #  .\n",
      "#  #  .  .  .  #  .  .  #  .  .  .  #  .  #  #  .  .  #\n",
      "#  .  #  #  #  .  .  #  #  #  .  #  .  #  #  #  #  .  #\n",
      "#  #  #  .  .  #  .  .  .  #  .  #  .  .  #  #  .  .  #\n",
      ".  #  #  #  .  #  #  #  .  .  .  #  #  .  .  #  #  #  .\n",
      "#  .  #  #  #  #  .  #  #  #  .  .  .  .  #  .  .  .  #\n",
      "#  #  #  .  #  .  #  #  #  #  .  #  .  #  #  #  .  .  .\n",
      ".  .  #  .  #  .  .  #  .  #  #  #  .  .  .  #  #  #  .\n",
      ".  .  .  .  .  #  .  .  #  .  .  #  .  #  #  #  .  .  #\n",
      ".  .  .  .  .  #  #  #  #  #  #  .  #  #  .  .  #  .  .\n",
      ".  .  .  #  #  #  .  .  #  #  #  .  .  .  #  .  #  #  .\n",
      ".  #  .  .  .  #  .  #  .  .  .  .  .  .  .  #  .  .  #\n"
     ]
    }
   ],
   "source": [
    "game2 = []\n",
    "\n",
    "def replace(a_list, symb_a, symb_d):\n",
    "    formatted_line = []\n",
    "    [formatted_line.append(symb_a) if x == 1 else formatted_line.append(symb_d) for x in a_list]\n",
    "    return formatted_line\n",
    "\n",
    "def format_round(game):\n",
    "    '''creates visualization for a round of game of life. needs round as input'''\n",
    "    \n",
    "    game2 = []\n",
    "    \n",
    "    for line in game:\n",
    "        newline = replace(line, symb_alive, symb_dead)\n",
    "        game2.append(\"  \".join(str(x) for x in newline))\n",
    "        \n",
    "    print(\"ROUND NUMBER {}:\".format(round_count))\n",
    "    return print('\\n'.join(map(str,game2)))\n",
    "\n",
    "format_round(start_pos)"
   ]
  },
  {
   "cell_type": "code",
   "execution_count": 18,
   "metadata": {},
   "outputs": [],
   "source": [
    "from functools import reduce\n",
    "\n",
    "game = start_pos\n",
    "\n",
    "def check_position(line, pos): # e.g. 2, 4\n",
    "    print(game[line][pos])\n",
    "    fields_to_check = game[line-1][pos-1:pos+2], [game[line][pos-1], \\\n",
    "        game[line][pos+2]], game[line+1][pos-1:pos+2]\n",
    "    fields_to_check = reduce(lambda x,y: x+y,fields_to_check)\n",
    "    return sum(fields_to_check)"
   ]
  },
  {
   "cell_type": "code",
   "execution_count": null,
   "metadata": {},
   "outputs": [],
   "source": []
  },
  {
   "cell_type": "code",
   "execution_count": null,
   "metadata": {},
   "outputs": [],
   "source": [
    "def calculate_next_round(current_round):\n",
    "    for line in game:\n",
    "        for pos in line:\n",
    "            outcome = check_position(line, pos)\n",
    "            if outcome ==...\n",
    "    return"
   ]
  },
  {
   "cell_type": "code",
   "execution_count": null,
   "metadata": {},
   "outputs": [],
   "source": []
  }
 ],
 "metadata": {
  "kernelspec": {
   "display_name": "Python 3",
   "language": "python",
   "name": "python3"
  },
  "language_info": {
   "codemirror_mode": {
    "name": "ipython",
    "version": 3
   },
   "file_extension": ".py",
   "mimetype": "text/x-python",
   "name": "python",
   "nbconvert_exporter": "python",
   "pygments_lexer": "ipython3",
   "version": "3.6.5"
  }
 },
 "nbformat": 4,
 "nbformat_minor": 2
}
